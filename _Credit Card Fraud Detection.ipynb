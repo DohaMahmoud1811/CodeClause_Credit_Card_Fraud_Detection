{
 "cells": [
  {
   "cell_type": "markdown",
   "id": "84b9d3d0",
   "metadata": {},
   "source": [
    "# 1. Import libraries:"
   ]
  },
  {
   "cell_type": "code",
   "execution_count": 1,
   "id": "ddd160d3",
   "metadata": {},
   "outputs": [],
   "source": [
    "import numpy as np    # For woworking with arrays.\n",
    "import pandas as pd   # For data manipulation and analysis.\n",
    "\n",
    "# For data visualization:\n",
    "import matplotlib.pyplot as plt\n",
    "import seaborn as sns\n",
    "\n",
    "# Machine Learning Algorithms:\n",
    "from sklearn.model_selection import train_test_split  # For Comparing, validating and choosing parameters and models.\n",
    "from sklearn.linear_model import LogisticRegression   # For Predicting a continuous-valued attribute associated with an object.\n",
    "from sklearn.tree import DecisionTreeClassifier    # A decision tree classifier.\n",
    "from sklearn.neighbors import KNeighborsClassifier, KNeighborsRegressor    # K-nearest neighbor classifier.\n",
    "from sklearn.svm import LinearSVC, LinearSVR, SVC, SVR    # Support vector machine.\n",
    "from sklearn.ensemble import BaggingClassifier,BaggingRegressor,RandomForestClassifier,RandomForestRegressor # Ensemble methods.\n",
    "from sklearn.preprocessing import StandardScaler    # For feature extraction and normalization.\n",
    "from sklearn.metrics import classification_report, accuracy_score, confusion_matrix    # For model evaluation.\n",
    "from sklearn.manifold import TSNE    # An approach to non-linear dimensionality reduction.\n",
    "from sklearn import preprocessing    # For Feature extraction and normalization.\n",
    "\n",
    "# Deep Learning Algorithms:\n",
    "from keras.layers import Input, Dense    # For building neural networks blocks.\n",
    "from keras.models import Model, Sequential    # Arbitrary model architectures.\n",
    "from keras import regularizers    # To applie a L2 regularization penalty."
   ]
  },
  {
   "cell_type": "code",
   "execution_count": 2,
   "id": "7f7975e6",
   "metadata": {},
   "outputs": [],
   "source": [
    "# Ignore warnings:\n",
    "import warnings\n",
    "warnings.filterwarnings(\"ignore\")"
   ]
  },
  {
   "cell_type": "code",
   "execution_count": 3,
   "id": "d375e3bb",
   "metadata": {},
   "outputs": [
    {
     "data": {
      "text/html": [
       "<div>\n",
       "<style scoped>\n",
       "    .dataframe tbody tr th:only-of-type {\n",
       "        vertical-align: middle;\n",
       "    }\n",
       "\n",
       "    .dataframe tbody tr th {\n",
       "        vertical-align: top;\n",
       "    }\n",
       "\n",
       "    .dataframe thead th {\n",
       "        text-align: right;\n",
       "    }\n",
       "</style>\n",
       "<table border=\"1\" class=\"dataframe\">\n",
       "  <thead>\n",
       "    <tr style=\"text-align: right;\">\n",
       "      <th></th>\n",
       "      <th>Time</th>\n",
       "      <th>V1</th>\n",
       "      <th>V2</th>\n",
       "      <th>V3</th>\n",
       "      <th>V4</th>\n",
       "      <th>V5</th>\n",
       "      <th>V6</th>\n",
       "      <th>V7</th>\n",
       "      <th>V8</th>\n",
       "      <th>V9</th>\n",
       "      <th>...</th>\n",
       "      <th>V21</th>\n",
       "      <th>V22</th>\n",
       "      <th>V23</th>\n",
       "      <th>V24</th>\n",
       "      <th>V25</th>\n",
       "      <th>V26</th>\n",
       "      <th>V27</th>\n",
       "      <th>V28</th>\n",
       "      <th>Amount</th>\n",
       "      <th>Class</th>\n",
       "    </tr>\n",
       "  </thead>\n",
       "  <tbody>\n",
       "    <tr>\n",
       "      <th>0</th>\n",
       "      <td>0.0</td>\n",
       "      <td>-1.359807</td>\n",
       "      <td>-0.072781</td>\n",
       "      <td>2.536347</td>\n",
       "      <td>1.378155</td>\n",
       "      <td>-0.338321</td>\n",
       "      <td>0.462388</td>\n",
       "      <td>0.239599</td>\n",
       "      <td>0.098698</td>\n",
       "      <td>0.363787</td>\n",
       "      <td>...</td>\n",
       "      <td>-0.018307</td>\n",
       "      <td>0.277838</td>\n",
       "      <td>-0.110474</td>\n",
       "      <td>0.066928</td>\n",
       "      <td>0.128539</td>\n",
       "      <td>-0.189115</td>\n",
       "      <td>0.133558</td>\n",
       "      <td>-0.021053</td>\n",
       "      <td>149.62</td>\n",
       "      <td>0</td>\n",
       "    </tr>\n",
       "    <tr>\n",
       "      <th>1</th>\n",
       "      <td>0.0</td>\n",
       "      <td>1.191857</td>\n",
       "      <td>0.266151</td>\n",
       "      <td>0.166480</td>\n",
       "      <td>0.448154</td>\n",
       "      <td>0.060018</td>\n",
       "      <td>-0.082361</td>\n",
       "      <td>-0.078803</td>\n",
       "      <td>0.085102</td>\n",
       "      <td>-0.255425</td>\n",
       "      <td>...</td>\n",
       "      <td>-0.225775</td>\n",
       "      <td>-0.638672</td>\n",
       "      <td>0.101288</td>\n",
       "      <td>-0.339846</td>\n",
       "      <td>0.167170</td>\n",
       "      <td>0.125895</td>\n",
       "      <td>-0.008983</td>\n",
       "      <td>0.014724</td>\n",
       "      <td>2.69</td>\n",
       "      <td>0</td>\n",
       "    </tr>\n",
       "    <tr>\n",
       "      <th>2</th>\n",
       "      <td>1.0</td>\n",
       "      <td>-1.358354</td>\n",
       "      <td>-1.340163</td>\n",
       "      <td>1.773209</td>\n",
       "      <td>0.379780</td>\n",
       "      <td>-0.503198</td>\n",
       "      <td>1.800499</td>\n",
       "      <td>0.791461</td>\n",
       "      <td>0.247676</td>\n",
       "      <td>-1.514654</td>\n",
       "      <td>...</td>\n",
       "      <td>0.247998</td>\n",
       "      <td>0.771679</td>\n",
       "      <td>0.909412</td>\n",
       "      <td>-0.689281</td>\n",
       "      <td>-0.327642</td>\n",
       "      <td>-0.139097</td>\n",
       "      <td>-0.055353</td>\n",
       "      <td>-0.059752</td>\n",
       "      <td>378.66</td>\n",
       "      <td>0</td>\n",
       "    </tr>\n",
       "    <tr>\n",
       "      <th>3</th>\n",
       "      <td>1.0</td>\n",
       "      <td>-0.966272</td>\n",
       "      <td>-0.185226</td>\n",
       "      <td>1.792993</td>\n",
       "      <td>-0.863291</td>\n",
       "      <td>-0.010309</td>\n",
       "      <td>1.247203</td>\n",
       "      <td>0.237609</td>\n",
       "      <td>0.377436</td>\n",
       "      <td>-1.387024</td>\n",
       "      <td>...</td>\n",
       "      <td>-0.108300</td>\n",
       "      <td>0.005274</td>\n",
       "      <td>-0.190321</td>\n",
       "      <td>-1.175575</td>\n",
       "      <td>0.647376</td>\n",
       "      <td>-0.221929</td>\n",
       "      <td>0.062723</td>\n",
       "      <td>0.061458</td>\n",
       "      <td>123.50</td>\n",
       "      <td>0</td>\n",
       "    </tr>\n",
       "    <tr>\n",
       "      <th>4</th>\n",
       "      <td>2.0</td>\n",
       "      <td>-1.158233</td>\n",
       "      <td>0.877737</td>\n",
       "      <td>1.548718</td>\n",
       "      <td>0.403034</td>\n",
       "      <td>-0.407193</td>\n",
       "      <td>0.095921</td>\n",
       "      <td>0.592941</td>\n",
       "      <td>-0.270533</td>\n",
       "      <td>0.817739</td>\n",
       "      <td>...</td>\n",
       "      <td>-0.009431</td>\n",
       "      <td>0.798278</td>\n",
       "      <td>-0.137458</td>\n",
       "      <td>0.141267</td>\n",
       "      <td>-0.206010</td>\n",
       "      <td>0.502292</td>\n",
       "      <td>0.219422</td>\n",
       "      <td>0.215153</td>\n",
       "      <td>69.99</td>\n",
       "      <td>0</td>\n",
       "    </tr>\n",
       "  </tbody>\n",
       "</table>\n",
       "<p>5 rows × 31 columns</p>\n",
       "</div>"
      ],
      "text/plain": [
       "   Time        V1        V2        V3        V4        V5        V6        V7  \\\n",
       "0   0.0 -1.359807 -0.072781  2.536347  1.378155 -0.338321  0.462388  0.239599   \n",
       "1   0.0  1.191857  0.266151  0.166480  0.448154  0.060018 -0.082361 -0.078803   \n",
       "2   1.0 -1.358354 -1.340163  1.773209  0.379780 -0.503198  1.800499  0.791461   \n",
       "3   1.0 -0.966272 -0.185226  1.792993 -0.863291 -0.010309  1.247203  0.237609   \n",
       "4   2.0 -1.158233  0.877737  1.548718  0.403034 -0.407193  0.095921  0.592941   \n",
       "\n",
       "         V8        V9  ...       V21       V22       V23       V24       V25  \\\n",
       "0  0.098698  0.363787  ... -0.018307  0.277838 -0.110474  0.066928  0.128539   \n",
       "1  0.085102 -0.255425  ... -0.225775 -0.638672  0.101288 -0.339846  0.167170   \n",
       "2  0.247676 -1.514654  ...  0.247998  0.771679  0.909412 -0.689281 -0.327642   \n",
       "3  0.377436 -1.387024  ... -0.108300  0.005274 -0.190321 -1.175575  0.647376   \n",
       "4 -0.270533  0.817739  ... -0.009431  0.798278 -0.137458  0.141267 -0.206010   \n",
       "\n",
       "        V26       V27       V28  Amount  Class  \n",
       "0 -0.189115  0.133558 -0.021053  149.62      0  \n",
       "1  0.125895 -0.008983  0.014724    2.69      0  \n",
       "2 -0.139097 -0.055353 -0.059752  378.66      0  \n",
       "3 -0.221929  0.062723  0.061458  123.50      0  \n",
       "4  0.502292  0.219422  0.215153   69.99      0  \n",
       "\n",
       "[5 rows x 31 columns]"
      ]
     },
     "execution_count": 3,
     "metadata": {},
     "output_type": "execute_result"
    }
   ],
   "source": [
    "# Let's read our data:\n",
    "df = pd.read_csv('C:\\\\Users\\\\2022\\\\Documents\\\\My works\\\\CodeClause\\\\Credit Card Fraud Detection\\\\creditcard.csv')\n",
    "df.head()"
   ]
  },
  {
   "cell_type": "code",
   "execution_count": 4,
   "id": "c33c2a35",
   "metadata": {},
   "outputs": [
    {
     "name": "stdout",
     "output_type": "stream",
     "text": [
      "<class 'pandas.core.frame.DataFrame'>\n",
      "RangeIndex: 284807 entries, 0 to 284806\n",
      "Data columns (total 31 columns):\n",
      " #   Column  Non-Null Count   Dtype  \n",
      "---  ------  --------------   -----  \n",
      " 0   Time    284807 non-null  float64\n",
      " 1   V1      284807 non-null  float64\n",
      " 2   V2      284807 non-null  float64\n",
      " 3   V3      284807 non-null  float64\n",
      " 4   V4      284807 non-null  float64\n",
      " 5   V5      284807 non-null  float64\n",
      " 6   V6      284807 non-null  float64\n",
      " 7   V7      284807 non-null  float64\n",
      " 8   V8      284807 non-null  float64\n",
      " 9   V9      284807 non-null  float64\n",
      " 10  V10     284807 non-null  float64\n",
      " 11  V11     284807 non-null  float64\n",
      " 12  V12     284807 non-null  float64\n",
      " 13  V13     284807 non-null  float64\n",
      " 14  V14     284807 non-null  float64\n",
      " 15  V15     284807 non-null  float64\n",
      " 16  V16     284807 non-null  float64\n",
      " 17  V17     284807 non-null  float64\n",
      " 18  V18     284807 non-null  float64\n",
      " 19  V19     284807 non-null  float64\n",
      " 20  V20     284807 non-null  float64\n",
      " 21  V21     284807 non-null  float64\n",
      " 22  V22     284807 non-null  float64\n",
      " 23  V23     284807 non-null  float64\n",
      " 24  V24     284807 non-null  float64\n",
      " 25  V25     284807 non-null  float64\n",
      " 26  V26     284807 non-null  float64\n",
      " 27  V27     284807 non-null  float64\n",
      " 28  V28     284807 non-null  float64\n",
      " 29  Amount  284807 non-null  float64\n",
      " 30  Class   284807 non-null  int64  \n",
      "dtypes: float64(30), int64(1)\n",
      "memory usage: 67.4 MB\n"
     ]
    }
   ],
   "source": [
    "# Let's look at the summary of our dataset:\n",
    "df.info()"
   ]
  },
  {
   "cell_type": "markdown",
   "id": "3814c74b",
   "metadata": {},
   "source": [
    "### We can notice that there are no null values in our dataset."
   ]
  },
  {
   "cell_type": "markdown",
   "id": "c6867d44",
   "metadata": {},
   "source": [
    "  "
   ]
  },
  {
   "cell_type": "markdown",
   "id": "2f8d5cfc",
   "metadata": {},
   "source": [
    "    "
   ]
  },
  {
   "cell_type": "markdown",
   "id": "2beeae27",
   "metadata": {},
   "source": [
    "# 2. EDA:"
   ]
  },
  {
   "cell_type": "code",
   "execution_count": 5,
   "id": "f7110313",
   "metadata": {},
   "outputs": [
    {
     "data": {
      "image/png": "[encoded data removed]",
      "text/plain": [
       "<Figure size 432x288 with 1 Axes>"
      ]
     },
     "metadata": {
      "needs_background": "light"
     },
     "output_type": "display_data"
    }
   ],
   "source": [
    "# We represent the counts of fraudulent and non-fraudulent:\n",
    "fig, ax = plt.subplots(figsize = (6, 4))\n",
    "\n",
    "ax = sns.countplot(data = df, x = 'Class', palette = \"Set2\")"
   ]
  },
  {
   "cell_type": "markdown",
   "id": "286c5160",
   "metadata": {},
   "source": [
    "### As we can see from this countplot, the classes 0 & 1 are highly imbalanced."
   ]
  },
  {
   "cell_type": "markdown",
   "id": "5166433a",
   "metadata": {},
   "source": [
    "        "
   ]
  },
  {
   "cell_type": "markdown",
   "id": "f2abb661",
   "metadata": {},
   "source": [
    "        "
   ]
  },
  {
   "cell_type": "code",
   "execution_count": 6,
   "id": "fe8b2e99",
   "metadata": {},
   "outputs": [
    {
     "data": {
      "image/png": "[encoded data removed]",
      "text/plain": [
       "<Figure size 1440x576 with 2 Axes>"
      ]
     },
     "metadata": {
      "needs_background": "light"
     },
     "output_type": "display_data"
    }
   ],
   "source": [
    "# Let's take a look at the Amount. Upon plotting the distribution chart and boxplot:\n",
    "fig, (ax1, ax2) = plt.subplots(2,1, figsize = (20, 8))\n",
    "\n",
    "sns.distplot(df['Amount'], ax = ax1)\n",
    "sns.boxplot(df['Amount'], ax = ax2)\n",
    "plt.show()"
   ]
  },
  {
   "cell_type": "markdown",
   "id": "ba693828",
   "metadata": {},
   "source": [
    "### we can see the feature is heavily right-skewed and has a large number of outliers and this can mislead the credit card fraud detection model."
   ]
  },
  {
   "cell_type": "markdown",
   "id": "3358639c",
   "metadata": {},
   "source": [
    "          "
   ]
  },
  {
   "cell_type": "markdown",
   "id": "30fbe484",
   "metadata": {},
   "source": [
    "                 "
   ]
  },
  {
   "cell_type": "code",
   "execution_count": 7,
   "id": "5a0818ba",
   "metadata": {},
   "outputs": [
    {
     "data": {
      "text/plain": [
       "count    284807.000000\n",
       "mean         88.349619\n",
       "std         250.120109\n",
       "min           0.000000\n",
       "25%           5.600000\n",
       "50%          22.000000\n",
       "75%          77.165000\n",
       "max       25691.160000\n",
       "Name: Amount, dtype: float64"
      ]
     },
     "execution_count": 7,
     "metadata": {},
     "output_type": "execute_result"
    }
   ],
   "source": [
    "# Let's explore some statistics of the amount:\n",
    "df['Amount'].describe()"
   ]
  },
  {
   "cell_type": "code",
   "execution_count": 8,
   "id": "dcb22af9",
   "metadata": {},
   "outputs": [
    {
     "name": "stdout",
     "output_type": "stream",
     "text": [
      "184.5125\n",
      "0    31813\n",
      "1       91\n",
      "Name: Class, dtype: int64\n"
     ]
    }
   ],
   "source": [
    "# we discard all the data points that are beyond 8000 amount to remove extreme outliers and, \n",
    "# at the same time, not losing any of our fraudulent user data. \n",
    "from scipy.stats import iqr\n",
    "\n",
    "upper_bound = df['Amount'].quantile(0.75) + (1.5 * iqr(df['Amount']))\n",
    "\n",
    "print(upper_bound)\n",
    "print(df[df['Amount'] > upper_bound]['Class'].value_counts())"
   ]
  },
  {
   "cell_type": "code",
   "execution_count": 9,
   "id": "7fc800b7",
   "metadata": {},
   "outputs": [
    {
     "name": "stdout",
     "output_type": "stream",
     "text": [
      "0    284303\n",
      "1       492\n",
      "Name: Class, dtype: int64\n",
      "\n",
      "Percentage of fraudulent activity: 0.17%\n"
     ]
    }
   ],
   "source": [
    "# The Percentage of fraudulent activity: 0.17%:\n",
    "df = df[df['Amount'] <= 8000]\n",
    "\n",
    "print(df['Class'].value_counts())\n",
    "print('\\nPercentage of fraudulent activity: {:.2%}'.format((df[df['Class'] == 1].shape[0] / len(df))))"
   ]
  },
  {
   "cell_type": "code",
   "execution_count": 10,
   "id": "30351d70",
   "metadata": {},
   "outputs": [
    {
     "data": {
      "text/plain": [
       "Text(0.5, 1.0, 'Genuine Transactions')"
      ]
     },
     "execution_count": 10,
     "metadata": {},
     "output_type": "execute_result"
    },
    {
     "data": {
      "image/png": "[encoded data removed]",
      "text/plain": [
       "<Figure size 1440x1080 with 2 Axes>"
      ]
     },
     "metadata": {
      "needs_background": "light"
     },
     "output_type": "display_data"
    }
   ],
   "source": [
    "# Box plots of the amount of frauduluent and genuine usrs:\n",
    "fig, (ax1, ax2) = plt.subplots(2,1, figsize = (20, 15))\n",
    "\n",
    "sns.boxplot('Amount', data = df[df['Class'] == 1], ax = ax1)\n",
    "ax1.set_title('Frauduluent Transactions')\n",
    "\n",
    "sns.boxplot('Amount', data = df[df['Class'] == 0], ax = ax2)\n",
    "ax2.set_title('Genuine Transactions')"
   ]
  },
  {
   "cell_type": "markdown",
   "id": "b4d834b3",
   "metadata": {},
   "source": [
    "### By looking at the Box plots of the amount of frauduluent and genuine usrs, we can see that most of the outliers have been removed."
   ]
  },
  {
   "cell_type": "markdown",
   "id": "ad6b6f24",
   "metadata": {},
   "source": [
    "              "
   ]
  },
  {
   "cell_type": "markdown",
   "id": "55e2607f",
   "metadata": {},
   "source": [
    "       "
   ]
  },
  {
   "cell_type": "markdown",
   "id": "553da860",
   "metadata": {},
   "source": [
    "# 3.Understanding the Correlation Among the Features in the Data:"
   ]
  },
  {
   "cell_type": "code",
   "execution_count": 11,
   "id": "501ede24",
   "metadata": {},
   "outputs": [
    {
     "data": {
      "image/png": "[encoded data removed]",
      "text/plain": [
       "<Figure size 648x504 with 2 Axes>"
      ]
     },
     "metadata": {
      "needs_background": "light"
     },
     "output_type": "display_data"
    }
   ],
   "source": [
    "# Let's now look at the correlation among the features:\n",
    "df_corr = df.corr()\n",
    "\n",
    "fig, ax = plt.subplots(figsize = (9, 7))\n",
    "\n",
    "sns.heatmap(df_corr, xticklabels = df_corr.columns, yticklabels = df_corr.columns\n",
    "            , linewidths = 0.1, cmap = 'RdBu', ax = ax)\n",
    "\n",
    "plt.tight_layout()"
   ]
  },
  {
   "cell_type": "markdown",
   "id": "d6d457bd",
   "metadata": {},
   "source": [
    "### We can conclude that the features are not showing any strong correlation relationship among themselves. So, we do not have to remove any feature based on correlation analysis."
   ]
  },
  {
   "cell_type": "markdown",
   "id": "5566148b",
   "metadata": {},
   "source": [
    "          "
   ]
  },
  {
   "cell_type": "markdown",
   "id": "978cbe1e",
   "metadata": {},
   "source": [
    "      "
   ]
  },
  {
   "cell_type": "code",
   "execution_count": 12,
   "id": "71f79107",
   "metadata": {},
   "outputs": [
    {
     "data": {
      "text/plain": [
       "(2000, 492)"
      ]
     },
     "execution_count": 12,
     "metadata": {},
     "output_type": "execute_result"
    }
   ],
   "source": [
    "# We pick any 2000 rows from the non-fraudulent users randomly:\n",
    "non_fraud = df[df['Class'] == 0].sample(2000)\n",
    "fraud = df[df['Class'] == 1]\n",
    "len(non_fraud), len(fraud)"
   ]
  },
  {
   "cell_type": "code",
   "execution_count": 13,
   "id": "02727daf",
   "metadata": {},
   "outputs": [],
   "source": [
    "# We combine this randomly selected sample to the fraudulent user data to create our training dataset:\n",
    "df_train = non_fraud.append(fraud).sample(frac = 1).reset_index(drop = True)\n",
    "\n",
    "X = df_train.drop(['Class'], axis = 1).values\n",
    "y = df_train['Class'].values"
   ]
  },
  {
   "cell_type": "markdown",
   "id": "704380e8",
   "metadata": {},
   "source": [
    "### In the beginning, we saw that the data is highly imbalanced. so, we will be using the undersampling technique to reduce the data points of the majority class to balance it with the minority class. This helps in overcoming the imbalance class issue."
   ]
  },
  {
   "cell_type": "markdown",
   "id": "eb484045",
   "metadata": {},
   "source": [
    "            "
   ]
  },
  {
   "cell_type": "markdown",
   "id": "e13d3ca7",
   "metadata": {},
   "source": [
    "         "
   ]
  },
  {
   "cell_type": "code",
   "execution_count": 14,
   "id": "ac1d2736",
   "metadata": {},
   "outputs": [
    {
     "data": {
      "text/plain": [
       "array([[ 45.40775   ,  13.994858  ],\n",
       "       [ 48.296223  , -22.430103  ],\n",
       "       [ 45.204952  ,  20.830927  ],\n",
       "       ...,\n",
       "       [ 41.285072  ,   0.08260727],\n",
       "       [ 14.39564   ,  18.998404  ],\n",
       "       [ 38.330112  ,  -6.3736863 ]], dtype=float32)"
      ]
     },
     "execution_count": 14,
     "metadata": {},
     "output_type": "execute_result"
    }
   ],
   "source": [
    "# We use TSNE to perform dimensionality reduction to visualize N-dimensions:\n",
    "dr = TSNE(n_components = 2, random_state = 24).fit_transform(X)\n",
    "\n",
    "dr"
   ]
  },
  {
   "cell_type": "code",
   "execution_count": 15,
   "id": "18fcaf64",
   "metadata": {},
   "outputs": [
    {
     "data": {
      "image/png": "[encoded data removed]",
      "text/plain": [
       "<Figure size 432x288 with 1 Axes>"
      ]
     },
     "metadata": {
      "needs_background": "light"
     },
     "output_type": "display_data"
    }
   ],
   "source": [
    "# Let's plot TSNE:\n",
    "color_map = {0: 'green', 1: 'pink'}\n",
    "plt.figure()\n",
    "\n",
    "for idx, cl in enumerate(np.unique(y)):\n",
    "    plt.scatter(x = dr[y == cl, 0],\n",
    "                y = dr[y == cl, 1],\n",
    "                c = color_map[idx],\n",
    "                label = cl)\n",
    "    \n",
    "plt.xlabel('X in t-SNE')\n",
    "plt.ylabel('Y in t-SNE')\n",
    "plt.legend(loc = 'upper left')\n",
    "plt.title('t-SNE visualisation of test data')\n",
    "plt.show()"
   ]
  },
  {
   "cell_type": "markdown",
   "id": "450ae682",
   "metadata": {},
   "source": [
    "### We see from the above graph, the data points of fraudulent and non-fraudulent users are overlapping which might be difficult for the user to comprehend. "
   ]
  },
  {
   "cell_type": "markdown",
   "id": "33ab23ea",
   "metadata": {},
   "source": [
    "            "
   ]
  },
  {
   "cell_type": "markdown",
   "id": "f8de9c7e",
   "metadata": {},
   "source": [
    "        "
   ]
  },
  {
   "cell_type": "markdown",
   "id": "e07d6c54",
   "metadata": {},
   "source": [
    "# 4. Constructing the Autoencoder for Fraud Detection:"
   ]
  },
  {
   "cell_type": "code",
   "execution_count": 16,
   "id": "0df1e433",
   "metadata": {},
   "outputs": [],
   "source": [
    "# First, we will scale our data:\n",
    "X_scale = preprocessing.MinMaxScaler().fit_transform(X)\n",
    "X_norm, X_fraud = X_scale[y == 0], X_scale[y == 1]"
   ]
  },
  {
   "cell_type": "code",
   "execution_count": 17,
   "id": "7f611a1f",
   "metadata": {},
   "outputs": [],
   "source": [
    "# 1. Constructing the autoencoder:\n",
    "autoencoder = Sequential()"
   ]
  },
  {
   "cell_type": "code",
   "execution_count": 18,
   "id": "14d4e5ce",
   "metadata": {},
   "outputs": [],
   "source": [
    "# We are using optimizers “relu” and “tanh” in the hidden layers of the autoencoder.\n",
    "# The optimizer of the autoencoder is “adadelta” while the loss will be calculated using “mean square error”.\n",
    "autoencoder.add(Dense(X.shape[1], activation = 'tanh'))\n",
    "autoencoder.add(Dense(100, activation = 'tanh'))\n",
    "autoencoder.add(Dense(50, activation = 'relu'))\n",
    "autoencoder.add(Dense(50, activation = 'tanh'))\n",
    "autoencoder.add(Dense(100, activation = 'tanh'))\n",
    "autoencoder.add(Dense(X.shape[1], activation = 'relu'))"
   ]
  },
  {
   "cell_type": "code",
   "execution_count": 19,
   "id": "6eccf772",
   "metadata": {},
   "outputs": [],
   "source": [
    "autoencoder.compile(optimizer = 'adadelta', loss = 'mse')"
   ]
  },
  {
   "cell_type": "code",
   "execution_count": 20,
   "id": "3a94a7d0",
   "metadata": {},
   "outputs": [
    {
     "name": "stdout",
     "output_type": "stream",
     "text": [
      "Epoch 1/10\n",
      "7/7 [==============================] - 4s 76ms/step - loss: 0.3031 - val_loss: 0.3028\n",
      "Epoch 2/10\n",
      "7/7 [==============================] - 0s 16ms/step - loss: 0.3028 - val_loss: 0.3024\n",
      "Epoch 3/10\n",
      "7/7 [==============================] - 0s 16ms/step - loss: 0.3025 - val_loss: 0.3021\n",
      "Epoch 4/10\n",
      "7/7 [==============================] - 0s 16ms/step - loss: 0.3022 - val_loss: 0.3018\n",
      "Epoch 5/10\n",
      "7/7 [==============================] - 0s 16ms/step - loss: 0.3019 - val_loss: 0.3015\n",
      "Epoch 6/10\n",
      "7/7 [==============================] - 0s 18ms/step - loss: 0.3016 - val_loss: 0.3012\n",
      "Epoch 7/10\n",
      "7/7 [==============================] - 0s 18ms/step - loss: 0.3013 - val_loss: 0.3008\n",
      "Epoch 8/10\n",
      "7/7 [==============================] - 0s 17ms/step - loss: 0.3009 - val_loss: 0.3005\n",
      "Epoch 9/10\n",
      "7/7 [==============================] - 0s 17ms/step - loss: 0.3006 - val_loss: 0.3002\n",
      "Epoch 10/10\n",
      "7/7 [==============================] - 0s 15ms/step - loss: 0.3003 - val_loss: 0.2998\n"
     ]
    }
   ],
   "source": [
    "# 2. Training the Autoencoder:\n",
    "# We train the autoencoder on the data of non-fraudulent users:\n",
    "# We train the autoencoder for 10 epochs with an 80:20 train validation split, the batch size for training will be 256:\n",
    "autoencoder.fit(X_norm, X_norm,\n",
    "                batch_size = 256, epochs = 10,\n",
    "                shuffle = True, validation_split = 0.20);"
   ]
  },
  {
   "cell_type": "code",
   "execution_count": 21,
   "id": "106d1631",
   "metadata": {},
   "outputs": [],
   "source": [
    "# Using this trained autoencoder, we will be extracting the hidden representation of our data into a Sequential model and we \n",
    "# will predict the learned representation for non-fraudulent and fraudulent users using this model:\n",
    "hidden_representation = Sequential()\n",
    "hidden_representation.add(autoencoder.layers[0])\n",
    "hidden_representation.add(autoencoder.layers[1])\n",
    "hidden_representation.add(autoencoder.layers[2])"
   ]
  },
  {
   "cell_type": "code",
   "execution_count": 22,
   "id": "3e5e58b9",
   "metadata": {},
   "outputs": [
    {
     "name": "stdout",
     "output_type": "stream",
     "text": [
      "63/63 [==============================] - 0s 2ms/step\n",
      "16/16 [==============================] - 0s 2ms/step\n"
     ]
    }
   ],
   "source": [
    "# Basically, the hidden patterns that the Autoencoder has learned from the data will be utilized to transform it for training\n",
    "# models:\n",
    "norm_hid_rep = hidden_representation.predict(X_norm)\n",
    "fraud_hid_rep = hidden_representation.predict(X_fraud)"
   ]
  },
  {
   "cell_type": "code",
   "execution_count": 23,
   "id": "cdce7b0d",
   "metadata": {},
   "outputs": [],
   "source": [
    "rep_X = np.append(norm_hid_rep, fraud_hid_rep, axis = 0)\n",
    "y_n = np.zeros(norm_hid_rep.shape[0])\n",
    "y_f = np.zeros(fraud_hid_rep.shape[0])\n",
    "rep_y = np.append(y_n, y_f)"
   ]
  },
  {
   "cell_type": "code",
   "execution_count": 24,
   "id": "70d33832",
   "metadata": {},
   "outputs": [
    {
     "data": {
      "text/plain": [
       "array([[ 10.939835 ,   8.772857 ],\n",
       "       [ -4.6613874,  28.21876  ],\n",
       "       [ 12.705906 , -47.118683 ],\n",
       "       ...,\n",
       "       [ 70.31801  , -14.782033 ],\n",
       "       [ 45.578415 ,   4.4866877],\n",
       "       [ 30.09174  ,  44.100536 ]], dtype=float32)"
      ]
     },
     "execution_count": 24,
     "metadata": {},
     "output_type": "execute_result"
    }
   ],
   "source": [
    "# And again we use TSNE to perform dimensionality reduction to visualize N-dimensions:\n",
    "new_dr = TSNE(n_components = 2, random_state = 24).fit_transform(rep_X)\n",
    "\n",
    "new_dr"
   ]
  },
  {
   "cell_type": "code",
   "execution_count": 25,
   "id": "0c6944e5",
   "metadata": {},
   "outputs": [
    {
     "data": {
      "image/png": "[encoded data removed]",
      "text/plain": [
       "<Figure size 432x288 with 1 Axes>"
      ]
     },
     "metadata": {
      "needs_background": "light"
     },
     "output_type": "display_data"
    }
   ],
   "source": [
    "# Now let's try to visualize the hidden representations of the training data using TSNE dimensionality reduction:\n",
    "# Let's plot TSNE:\n",
    "color_map = {0: 'green', 1: 'pink'}\n",
    "plt.figure()\n",
    "\n",
    "for idx, cl in enumerate(np.unique(y)):\n",
    "    plt.scatter(x = new_dr[y == cl, 0],\n",
    "                y = new_dr[y == cl, 1],\n",
    "                c = color_map[idx],\n",
    "                label = cl)\n",
    "    \n",
    "plt.xlabel('X in t-SNE')\n",
    "plt.ylabel('Y in t-SNE')\n",
    "plt.legend(loc = 'upper left')\n",
    "plt.title('t-SNE visualisation of test data')\n",
    "plt.show()"
   ]
  },
  {
   "cell_type": "markdown",
   "id": "67fb6ea1",
   "metadata": {},
   "source": [
    "### Now we can differentiate between the fraudulent and non-fraudulent population, unlike earlier when the data was overlapping."
   ]
  },
  {
   "cell_type": "markdown",
   "id": "1c337857",
   "metadata": {},
   "source": [
    "          "
   ]
  },
  {
   "cell_type": "markdown",
   "id": "54c7fd70",
   "metadata": {},
   "source": [
    "    "
   ]
  },
  {
   "cell_type": "markdown",
   "id": "45a45fd7",
   "metadata": {},
   "source": [
    "# 5. Training Logistic Regression for Credit Card Fraud Detection:"
   ]
  },
  {
   "cell_type": "code",
   "execution_count": 26,
   "id": "41155b35",
   "metadata": {},
   "outputs": [
    {
     "name": "stdout",
     "output_type": "stream",
     "text": [
      "              precision    recall  f1-score   support\n",
      "\n",
      "           0       0.97      0.99      0.98       495\n",
      "           1       0.95      0.87      0.91       128\n",
      "\n",
      "    accuracy                           0.96       623\n",
      "   macro avg       0.96      0.93      0.94       623\n",
      "weighted avg       0.96      0.96      0.96       623\n",
      "\n"
     ]
    },
    {
     "data": {
      "image/png": "[encoded data removed]",
      "text/plain": [
       "<Figure size 432x288 with 2 Axes>"
      ]
     },
     "metadata": {
      "needs_background": "light"
     },
     "output_type": "display_data"
    }
   ],
   "source": [
    "# Now let's use our data to train our logistic regression model:\n",
    "X_train, X_test, y_train, y_test = train_test_split(X, y, test_size = 0.25)\n",
    "clf = LogisticRegression(solver = 'lbfgs').fit(X_train, y_train)\n",
    "y_pred = clf.predict(X_test)\n",
    "\n",
    "# Classification report:\n",
    "print(classification_report(y_test, y_pred))\n",
    "\n",
    "# Confusion matrix:\n",
    "fig, ax = plt.subplots()\n",
    "sns.heatmap(confusion_matrix(y_test, y_pred, normalize = 'true'), annot = True, ax = ax)\n",
    "\n",
    "ax.set_title('Confusion Matrix')\n",
    "ax.set_xlabel('Predicted')\n",
    "ax.set_ylabel('Real Value')\n",
    "plt.show()"
   ]
  },
  {
   "cell_type": "markdown",
   "id": "69e7aeb7",
   "metadata": {},
   "source": [
    "     "
   ]
  },
  {
   "cell_type": "markdown",
   "id": "7cda6b01",
   "metadata": {},
   "source": [
    "       "
   ]
  },
  {
   "cell_type": "markdown",
   "id": "0f14f126",
   "metadata": {},
   "source": [
    "# 6. Training Decision Tree for Credit Card Fraud Detection:"
   ]
  },
  {
   "cell_type": "code",
   "execution_count": 27,
   "id": "301795b0",
   "metadata": {},
   "outputs": [
    {
     "name": "stdout",
     "output_type": "stream",
     "text": [
      "              precision    recall  f1-score   support\n",
      "\n",
      "           0       0.95      1.00      0.98       495\n",
      "           1       1.00      0.81      0.90       128\n",
      "\n",
      "    accuracy                           0.96       623\n",
      "   macro avg       0.98      0.91      0.94       623\n",
      "weighted avg       0.96      0.96      0.96       623\n",
      "\n"
     ]
    },
    {
     "data": {
      "image/png": "[encoded data removed]",
      "text/plain": [
       "<Figure size 432x288 with 2 Axes>"
      ]
     },
     "metadata": {
      "needs_background": "light"
     },
     "output_type": "display_data"
    }
   ],
   "source": [
    "# Now let's use our data to train our decision tree model:\n",
    "tree_model = DecisionTreeClassifier(max_depth = 4, criterion = 'entropy')\n",
    "tree_model.fit(X_train, y_train)\n",
    "y_tree_pred = tree_model.predict(X_test)\n",
    "\n",
    "# Classification report:\n",
    "print(classification_report(y_test, y_tree_pred))\n",
    "\n",
    "# Confusion matrix:\n",
    "fig, ax = plt.subplots()\n",
    "sns.heatmap(confusion_matrix(y_test, y_tree_pred, normalize = 'true'), annot = True, ax = ax)\n",
    "\n",
    "ax.set_title('Confusion Matrix')\n",
    "ax.set_xlabel('Predicted')\n",
    "ax.set_ylabel('Real Value')\n",
    "plt.show()"
   ]
  },
  {
   "cell_type": "markdown",
   "id": "67fc3825",
   "metadata": {},
   "source": [
    "        "
   ]
  },
  {
   "cell_type": "markdown",
   "id": "8da45715",
   "metadata": {},
   "source": [
    "          "
   ]
  },
  {
   "cell_type": "markdown",
   "id": "4dcdfd20",
   "metadata": {},
   "source": [
    "# 7. Training KNN for Credit Card Fraud Detection:"
   ]
  },
  {
   "cell_type": "code",
   "execution_count": 28,
   "id": "3428aa8b",
   "metadata": {},
   "outputs": [
    {
     "name": "stdout",
     "output_type": "stream",
     "text": [
      "              precision    recall  f1-score   support\n",
      "\n",
      "           0       0.95      1.00      0.98       495\n",
      "           1       1.00      0.81      0.90       128\n",
      "\n",
      "    accuracy                           0.96       623\n",
      "   macro avg       0.98      0.91      0.94       623\n",
      "weighted avg       0.96      0.96      0.96       623\n",
      "\n"
     ]
    },
    {
     "data": {
      "image/png": "[encoded data removed]",
      "text/plain": [
       "<Figure size 432x288 with 2 Axes>"
      ]
     },
     "metadata": {
      "needs_background": "light"
     },
     "output_type": "display_data"
    }
   ],
   "source": [
    "# Now let's use our data to train our KNN model:\n",
    "n = 7\n",
    "KNN = KNeighborsClassifier(n_neighbors = n)\n",
    "KNN.fit(X_train, y_train)\n",
    "knn_yhat = KNN.predict(X_test)\n",
    "\n",
    "# Classification report:\n",
    "print(classification_report(y_test, y_tree_pred))\n",
    "\n",
    "# Confusion matrix:\n",
    "fig, ax = plt.subplots()\n",
    "sns.heatmap(confusion_matrix(y_test, y_tree_pred, normalize = 'true'), annot = True, ax = ax)\n",
    "\n",
    "ax.set_title('Confusion Matrix')\n",
    "ax.set_xlabel('Predicted')\n",
    "ax.set_ylabel('Real Value')\n",
    "plt.show()"
   ]
  },
  {
   "cell_type": "markdown",
   "id": "48c9f5eb",
   "metadata": {},
   "source": [
    "       "
   ]
  },
  {
   "cell_type": "markdown",
   "id": "0ed98152",
   "metadata": {},
   "source": [
    "      "
   ]
  },
  {
   "cell_type": "markdown",
   "id": "af382d98",
   "metadata": {},
   "source": [
    "# 8. Training SVM for Credit Card Fraud Detection:"
   ]
  },
  {
   "cell_type": "code",
   "execution_count": 29,
   "id": "7f75d52d",
   "metadata": {},
   "outputs": [
    {
     "name": "stdout",
     "output_type": "stream",
     "text": [
      "              precision    recall  f1-score   support\n",
      "\n",
      "           0       0.95      1.00      0.98       495\n",
      "           1       1.00      0.81      0.90       128\n",
      "\n",
      "    accuracy                           0.96       623\n",
      "   macro avg       0.98      0.91      0.94       623\n",
      "weighted avg       0.96      0.96      0.96       623\n",
      "\n"
     ]
    },
    {
     "data": {
      "image/png": "[encoded data removed]",
      "text/plain": [
       "<Figure size 432x288 with 2 Axes>"
      ]
     },
     "metadata": {
      "needs_background": "light"
     },
     "output_type": "display_data"
    }
   ],
   "source": [
    "# # Now let's use our data to train our SVM model:\n",
    "svm = SVC()\n",
    "svm.fit(X_train, y_train)\n",
    "svm_yhat = svm.predict(X_test)\n",
    "\n",
    "# Classification report:\n",
    "print(classification_report(y_test, y_tree_pred))\n",
    "\n",
    "# Confusion matrix:\n",
    "fig, ax = plt.subplots()\n",
    "sns.heatmap(confusion_matrix(y_test, y_tree_pred, normalize = 'true'), annot = True, ax = ax)\n",
    "\n",
    "ax.set_title('Confusion Matrix')\n",
    "ax.set_xlabel('Predicted')\n",
    "ax.set_ylabel('Real Value')\n",
    "plt.show()"
   ]
  },
  {
   "cell_type": "markdown",
   "id": "6650cc2d",
   "metadata": {},
   "source": [
    "       "
   ]
  },
  {
   "cell_type": "markdown",
   "id": "36af6048",
   "metadata": {},
   "source": [
    "          "
   ]
  },
  {
   "cell_type": "markdown",
   "id": "c55b0a40",
   "metadata": {},
   "source": [
    "# 9. Training random forest for Credit Card Fraud Detection:"
   ]
  },
  {
   "cell_type": "code",
   "execution_count": 30,
   "id": "9517dc10",
   "metadata": {},
   "outputs": [
    {
     "name": "stdout",
     "output_type": "stream",
     "text": [
      "              precision    recall  f1-score   support\n",
      "\n",
      "           0       0.95      1.00      0.98       495\n",
      "           1       1.00      0.81      0.90       128\n",
      "\n",
      "    accuracy                           0.96       623\n",
      "   macro avg       0.98      0.91      0.94       623\n",
      "weighted avg       0.96      0.96      0.96       623\n",
      "\n"
     ]
    },
    {
     "data": {
      "image/png": "[encoded data removed]",
      "text/plain": [
       "<Figure size 432x288 with 2 Axes>"
      ]
     },
     "metadata": {
      "needs_background": "light"
     },
     "output_type": "display_data"
    }
   ],
   "source": [
    "# Now let's use our data to train our random forest model:\n",
    "rf = RandomForestClassifier(max_depth = 4)\n",
    "rf.fit(X_train, y_train)\n",
    "rf_yhat = rf.predict(X_test)\n",
    "\n",
    "# Classification report:\n",
    "print(classification_report(y_test, y_tree_pred))\n",
    "\n",
    "# Confusion matrix:\n",
    "fig, ax = plt.subplots()\n",
    "sns.heatmap(confusion_matrix(y_test, y_tree_pred, normalize = 'true'), annot = True, ax = ax)\n",
    "\n",
    "ax.set_title('Confusion Matrix')\n",
    "ax.set_xlabel('Predicted')\n",
    "ax.set_ylabel('Real Value')\n",
    "plt.show()"
   ]
  }
 ],
 "metadata": {
  "kernelspec": {
   "display_name": "Python 3 (ipykernel)",
   "language": "python",
   "name": "python3"
  },
  "language_info": {
   "codemirror_mode": {
    "name": "ipython",
    "version": 3
   },
   "file_extension": ".py",
   "mimetype": "text/x-python",
   "name": "python",
   "nbconvert_exporter": "python",
   "pygments_lexer": "ipython3",
   "version": "3.9.12"
  }
 },
 "nbformat": 4,
 "nbformat_minor": 5
}
